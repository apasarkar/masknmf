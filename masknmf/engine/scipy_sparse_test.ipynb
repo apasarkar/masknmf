{
 "cells": [
  {
   "cell_type": "code",
   "execution_count": 2,
   "id": "76860bb1-06de-4f90-814f-06019eb6f8e0",
   "metadata": {},
   "outputs": [],
   "source": [
    "import numpy as np\n",
    "import scipy.sparse\n",
    "import matplotlib.pyplot as plt\n",
    "\n",
    "import math"
   ]
  },
  {
   "cell_type": "code",
   "execution_count": 6,
   "id": "34eb9661-82bc-4e94-9925-4c54c197fbfd",
   "metadata": {},
   "outputs": [
    {
     "name": "stdout",
     "output_type": "stream",
     "text": [
      "<class 'scipy.sparse.csc.csc_matrix'>\n"
     ]
    }
   ],
   "source": [
    "test_a = scipy.sparse.csc_matrix((100, 3))\n",
    "\n",
    "test_b = test_a[:, [False, False, False]]\n",
    "print(type(test_b))"
   ]
  },
  {
   "cell_type": "code",
   "execution_count": 4,
   "id": "61a93d7c-8a5c-4df2-b38f-e64b52bd13b6",
   "metadata": {},
   "outputs": [
    {
     "name": "stdout",
     "output_type": "stream",
     "text": [
      "(262144, 0)\n"
     ]
    }
   ],
   "source": [
    "test_a = scipy.sparse.csc_matrix((512*512, 0))\n",
    "\n",
    "for k in range(10):\n",
    "    test_b = scipy.sparse.csc_matrix((512*512, 0))\n",
    "    test_a = scipy.sparse.hstack([test_a, test_b])\n",
    "    \n",
    "print(test_a.shape)"
   ]
  },
  {
   "cell_type": "code",
   "execution_count": 17,
   "id": "f3564bd2-d08b-4ff9-b136-dcbbbb2c2faf",
   "metadata": {},
   "outputs": [
    {
     "name": "stdout",
     "output_type": "stream",
     "text": [
      "0.0\n"
     ]
    }
   ],
   "source": [
    "test_1 = np.random.rand(50, 60)\n",
    "test_2 = test_1.reshape((50, 60), order = \"F\")\n",
    "\n",
    "print(np.linalg.norm(test_1 - test_2))"
   ]
  },
  {
   "cell_type": "code",
   "execution_count": 41,
   "id": "b871c1ef-f55f-467b-a659-f129cc437cbb",
   "metadata": {},
   "outputs": [
    {
     "name": "stdout",
     "output_type": "stream",
     "text": [
      "5\n"
     ]
    },
    {
     "data": {
      "image/png": "[encoded data removed]",
      "text/plain": [
       "<Figure size 432x288 with 1 Axes>"
      ]
     },
     "metadata": {
      "needs_background": "light"
     },
     "output_type": "display_data"
    },
    {
     "name": "stdout",
     "output_type": "stream",
     "text": [
      "(30000, 5)\n",
      "<class 'scipy.sparse.csc.csc_matrix'>\n",
      "[  239  1702  1946  2674  4453  4603  9894 13876 14155 15775 25870 25959]\n",
      "[ 4  6  8 10 15 17 20 22 29 31]\n",
      "<class 'scipy.sparse.csc.csc_matrix'>\n",
      "[ 2107  3123  4147  9020  9044  9859 11071 13138 21530 22320 23789 24664\n",
      " 28935 29925]\n",
      "[ 1  2  9 17 19 20 21 22 24 26 35]\n",
      "<class 'scipy.sparse.csc.csc_matrix'>\n",
      "[  744   764  2152  3865  4026  4901  9703 12866 18045 19525 19544 20801\n",
      " 21342 23191 23943 25203 29133 29287]\n",
      "[ 1  5  6  8 11 12 14 19 22 23 24 26 29]\n",
      "<class 'scipy.sparse.csc.csc_matrix'>\n",
      "[  928  1462  2599  2779  5237  6968  6986  9433 10704 11086 13199 13542\n",
      " 15586 16978 17606 25899 28782]\n",
      "[ 1  4  8 10 11 15 16 22 27 30 31 32 34]\n",
      "<class 'scipy.sparse.csc.csc_matrix'>\n",
      "[ 7350  8236  9732 10082 14850 15132 18072 18870 19072 21793 27038 27349\n",
      " 27767 29887]\n",
      "[ 2  4  6 10 12 13 14 18 25 30 31 32]\n"
     ]
    }
   ],
   "source": [
    "x = 150\n",
    "y = 200\n",
    "property_count = 0\n",
    "block_size = (32,32)\n",
    "iters1 = math.ceil(x / block_size[0])\n",
    "print(iters1)\n",
    "iters2 = math.ceil(y / block_size[1])\n",
    "properties = np.zeros((x,y))\n",
    "num_masks = 5\n",
    "neuron_properties = np.zeros((iters1*iters2, num_masks)) \n",
    "\n",
    "\n",
    "for k in range(iters1):\n",
    "    for j in range(iters2):\n",
    "        x_range = (block_size[0] * k, block_size[0] * (k+1))\n",
    "        y_range = (block_size[1] * j, block_size[1] * (j+1))\n",
    "\n",
    "        properties[x_range[0]:x_range[1], y_range[0]:y_range[1]] = property_count\n",
    "        property_count +=1 \n",
    "            \n",
    "properties_r = properties.reshape((-1, 1), order=\"F\")  \n",
    "\n",
    "plt.figure()\n",
    "plt.imshow(properties_r.reshape((x, y), order=\"F\"))\n",
    "plt.show()\n",
    "\n",
    "rand_mat = scipy.sparse.random(x*y, num_masks, 0.0005, dtype='bool')\n",
    "\n",
    "prod = rand_mat.tocsr().multiply(properties_r)\n",
    "prod = prod.tocsc()\n",
    "print(prod.shape)\n",
    "for k in range(prod.shape[1]):\n",
    "    curr_col = prod[:, k]\n",
    "    print(type(curr_col))\n",
    "    row_nonzero, _ = curr_col.nonzero()\n",
    "    print(row_nonzero)\n",
    "    property_values = np.unique(properties_r[row_nonzero, :]).astype('int')\n",
    "    print(property_values)\n",
    "    neuron_properties[property_values, k] = 1"
   ]
  },
  {
   "cell_type": "code",
   "execution_count": 3,
   "id": "e0a004ed-07db-4d7b-93bb-59b2ee1b051a",
   "metadata": {},
   "outputs": [],
   "source": [
    "a_test = scipy.sparse.random(50, 4, 0.01)"
   ]
  },
  {
   "cell_type": "code",
   "execution_count": 13,
   "id": "eab2bb77-cdd0-4c7c-a0a0-81edb70cbc87",
   "metadata": {},
   "outputs": [
    {
     "name": "stdout",
     "output_type": "stream",
     "text": [
      "[[0.         0.43425441 0.         0.        ]]\n",
      "[0.         0.43425441 0.         0.        ]\n",
      "(1, 4)\n",
      "(4,)\n",
      "0.0\n"
     ]
    }
   ],
   "source": [
    "a_test_csc = a_test.tocsc()\n",
    "a_sq = a_test_csc.multiply(a_test_csc)\n",
    "a_norm_sq = np.asarray(a_sq.sum(0))\n",
    "a_norm = np.sqrt(a_norm_sq)\n",
    "\n",
    "a_np_norm = np.linalg.norm(a_test.toarray(), axis= 0)\n",
    "\n",
    "print(a_norm)\n",
    "print(a_np_norm)\n",
    "\n",
    "print(a_norm.shape)\n",
    "print(a_np_norm.shape)\n",
    "\n",
    "a_norm[a_norm == 0] = 1 #Deal with invalid values\n",
    "a_np_norm[a_np_norm==0] = 1\n",
    "\n",
    "a_norm_divisor = np.reciprocal(a_norm)\n",
    "\n",
    "a_test_normalized = a_test.multiply(a_norm_divisor)\n",
    "\n",
    "a_np_normalized = a_test.toarray() / a_np_norm[None, :]\n",
    "\n",
    "\n",
    "print(np.linalg.norm(a_test_normalized.toarray() - a_np_normalized))"
   ]
  },
  {
   "cell_type": "code",
   "execution_count": 14,
   "id": "a70f70cc-b2da-40b0-a894-acf7f37b2905",
   "metadata": {},
   "outputs": [
    {
     "name": "stdout",
     "output_type": "stream",
     "text": [
      "<class 'scipy.sparse.coo.coo_matrix'>\n"
     ]
    }
   ],
   "source": [
    "a_test = scipy.sparse.random(50, 3, 0.01).tocsr()\n",
    "\n",
    "a_prod = a_test.multiply(np.ones((50, 1)))\n",
    "print(type(a_prod))"
   ]
  },
  {
   "cell_type": "code",
   "execution_count": 2,
   "id": "9ee98f9c-f611-442d-8f57-a9a5562fee60",
   "metadata": {},
   "outputs": [],
   "source": [
    "def matmul_fn(A, B):\n",
    "    A.dot(B)\n",
    "    return 1\n",
    "    "
   ]
  },
  {
   "cell_type": "code",
   "execution_count": 3,
   "id": "86505aa3-504f-48c2-991c-2c30c727bb88",
   "metadata": {},
   "outputs": [
    {
     "data": {
      "text/plain": [
       "0.00152587890625"
      ]
     },
     "execution_count": 3,
     "metadata": {},
     "output_type": "execute_result"
    }
   ],
   "source": [
    "400/(512*512)\n"
   ]
  },
  {
   "cell_type": "code",
   "execution_count": 5,
   "id": "fcfdceb0-363b-44d6-8531-4fd11d019e25",
   "metadata": {},
   "outputs": [
    {
     "name": "stdout",
     "output_type": "stream",
     "text": [
      "now at matmul\n",
      "<class 'scipy.sparse.csr.csr_matrix'>\n",
      "45.8 ms ± 38.8 µs per loop (mean ± std. dev. of 7 runs, 10 loops each)\n",
      "peak memory: 121.00 MiB, increment: 0.01 MiB\n"
     ]
    }
   ],
   "source": [
    "d1 = 300\n",
    "d2 = 100000\n",
    "\n",
    "\n",
    "A = scipy.sparse.random(d1, d2, density=0.001, format='csc')\n",
    "At = A.T\n",
    "print(\"now at matmul\")\n",
    "print(type(At))\n",
    "%timeit matmul_fn(At, A)\n",
    "%memit matmul_fn(At, A)\n"
   ]
  },
  {
   "cell_type": "code",
   "execution_count": 8,
   "id": "1417eea2-d1ca-4bb7-a7b2-1906cc4af69a",
   "metadata": {},
   "outputs": [
    {
     "name": "stdout",
     "output_type": "stream",
     "text": [
      "(262144, 801)\n",
      "<class 'scipy.sparse.csr.csr_matrix'>\n"
     ]
    }
   ],
   "source": [
    "elt = scipy.sparse.csc_matrix((512*512, 1))\n",
    "\n",
    "masks = scipy.sparse.csc_matrix((512*512, 800))\n",
    "\n",
    "for k in range(masks.shape[1]):\n",
    "    add = masks[:, k]\n",
    "    elt = scipy.sparse.hstack([elt, add])\n",
    "print(elt.shape)\n",
    "print(type(add.T))\n"
   ]
  },
  {
   "cell_type": "code",
   "execution_count": 12,
   "id": "b974b778-f0e2-4c7f-9e46-fb68a43f55c1",
   "metadata": {},
   "outputs": [
    {
     "name": "stdout",
     "output_type": "stream",
     "text": [
      "<class 'scipy.sparse.csr.csr_matrix'>\n",
      "(1, 800)\n",
      "0.0\n"
     ]
    }
   ],
   "source": [
    "elt = scipy.sparse.csc_matrix((512*512, 1))\n",
    "\n",
    "masks = scipy.sparse.csc_matrix((512*512, 800))\n",
    "prod = elt.T.dot(masks)\n",
    "\n",
    "print(type(prod))\n",
    "print(prod.shape)\n",
    "print(prod.max())"
   ]
  },
  {
   "cell_type": "code",
   "execution_count": null,
   "id": "fca88b01-0fc9-4506-955e-e8b42566afae",
   "metadata": {},
   "outputs": [],
   "source": []
  }
 ],
 "metadata": {
  "kernelspec": {
   "display_name": "Python 3",
   "language": "python",
   "name": "python3"
  },
  "language_info": {
   "codemirror_mode": {
    "name": "ipython",
    "version": 3
   },
   "file_extension": ".py",
   "mimetype": "text/x-python",
   "name": "python",
   "nbconvert_exporter": "python",
   "pygments_lexer": "ipython3",
   "version": "3.6.13"
  }
 },
 "nbformat": 4,
 "nbformat_minor": 5
}
